{
    "cells": [
        {
            "cell_type": "markdown",
            "metadata": {
                "collapsed": true
            },
            "source": "# Battle of the neighborhoods -- Which part of town is the most alive! week4 submission"
        },
        {
            "cell_type": "markdown",
            "metadata": {},
            "source": "Johannesburg is the most alive city in Africa. \n\nThis claim may not be supported by data , but it's young, it's diverse, and it's loved by its residents. \n\nIt's no less a melting pot than other metropolitans. I myself am an immigrant from China. \nAfter living six years in the city, I can be half a tour guide if you ever want to visit. \n\nWhat you say now? You don't have time to go over the whole town? \nWhy don't I suggest a cluster of suburbs where wine glasses are always full, coffee aromas are always lingering, and the fun never stops!\n"
        },
        {
            "cell_type": "markdown",
            "metadata": {},
            "source": "## Part 1 Research problem/Audience/Significance "
        },
        {
            "cell_type": "markdown",
            "metadata": {},
            "source": "#### Problem:  Which part of town is the most alive in Johannesburg?\n#### Audience:  Self-guided tourists\n#### Significance: The analysis suggests the most efficient way to visit the fun spots in the city. "
        },
        {
            "cell_type": "markdown",
            "metadata": {},
            "source": "## Part 2 Data description"
        },
        {
            "cell_type": "markdown",
            "metadata": {},
            "source": "The analysis uses the Foursquare Location to map and cluster the 1562 Johannesburg suburbs based on recreational categories. \n\nThe algorithm is Kmeans Clustering from SKLEARN library.\n\nThe Suburbs information is scraped from the SAPostal service website."
        },
        {
            "cell_type": "code",
            "execution_count": null,
            "metadata": {},
            "outputs": [],
            "source": ""
        }
    ],
    "metadata": {
        "kernelspec": {
            "display_name": "Python 3.6",
            "language": "python",
            "name": "python3"
        },
        "language_info": {
            "codemirror_mode": {
                "name": "ipython",
                "version": 3
            },
            "file_extension": ".py",
            "mimetype": "text/x-python",
            "name": "python",
            "nbconvert_exporter": "python",
            "pygments_lexer": "ipython3",
            "version": "3.6.9"
        }
    },
    "nbformat": 4,
    "nbformat_minor": 1
}