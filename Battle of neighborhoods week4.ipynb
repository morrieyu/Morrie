{
    "cells": [
        {
            "cell_type": "markdown",
            "metadata": {
                "collapsed": true
            },
            "source": "# Battle of the neighborhoods -- Which part of town is the most alive! week4 submission"
        },
        {
            "cell_type": "markdown",
            "metadata": {},
            "source": "Johannesburg is the most alive city in Africa. \n\nThis claim may not be supported by data , but it's young, it's diverse, and it's loved by its residents. \n\nIt's no less a melting pot than other metropolitans. I myself am an immigrant from China. \nAfter living six years in the city, I can be half a tour guide if you ever want to visit. \n\nWhat you say now? You don't have time to go over the whole town? \nWhy don't I suggest a cluster of suburbs where wine glasses are always full, coffee aromas are always lingering, and the fun never stops!\n"
        },
        {
            "cell_type": "markdown",
            "metadata": {},
            "source": "## Part 1 Research problem/Audience/Significance "
        },
        {
            "cell_type": "markdown",
            "metadata": {},
            "source": "#### Problem:  Which part of town is the most alive in Johannesburg?\n#### Audience:  Self-guided tourists\n#### Significance: The analysis suggests the most efficient way to visit the fun spots in the city. "
        },
        {
            "cell_type": "markdown",
            "metadata": {},
            "source": "## Part 2 Data description"
        },
        {
            "cell_type": "markdown",
            "metadata": {},
            "source": "The analysis uses the Foursquare Location to map and cluster the 1562 Johannesburg suburbs based on recreational categories. \n\nThe algorithm is Kmeans Clustering from SKLEARN library.\n\nThe Suburbs information is scraped from the SAPostal service website."
        },
        {
            "cell_type": "markdown",
            "metadata": {},
            "source": "## Part 3 Suburbs names"
        },
        {
            "cell_type": "code",
            "execution_count": 1,
            "metadata": {},
            "outputs": [
                {
                    "name": "stdout",
                    "output_type": "stream",
                    "text": "numpy, pandas, ..., imported...\nrequests imported...\njson_normalize imported...\nmatplotlib imported...\nKmeans imported...\n"
                }
            ],
            "source": "# library to handle data in a vectorized manner\nimport numpy as np\n\n# library for data analsysis\nimport pandas as pd\n\n# library to handle JSON files\nimport json\nprint('numpy, pandas, ..., imported...')\n\n# library to handle requests\nimport requests\nprint('requests imported...')\n\n# tranform JSON file into a pandas dataframe\nfrom pandas.io.json import json_normalize\nprint('json_normalize imported...')\n\n# Matplotlib and associated plotting modules\nimport matplotlib.pyplot as plt\nprint('matplotlib imported...')\n\n# import k-means from clustering stage\nfrom sklearn.cluster import KMeans\nprint('Kmeans imported...')"
        },
        {
            "cell_type": "code",
            "execution_count": 2,
            "metadata": {},
            "outputs": [],
            "source": "# Get the Toronto file from WIKI.\nfrom bs4 import BeautifulSoup\nfrom urllib.request import urlopen  # for Python 3: from urllib.request import urlopen\nfrom bs4 import BeautifulSoup\n\nURL = 'http://www.sapostalcodes.info/queryPostal/Johannesburg'\nsoup = BeautifulSoup(urlopen(URL))\n"
        },
        {
            "cell_type": "code",
            "execution_count": 3,
            "metadata": {},
            "outputs": [],
            "source": "tables = [\n    [\n        [td.get_text(strip=True) for td in tr.find_all('td')] \n        for tr in table.find_all('tr')\n    ] \n    for table in soup.find_all('table')\n]\ndf=pd.DataFrame(tables[1],columns=[\"City\",\"Suburb\",\"Street\",\"Box\"])"
        },
        {
            "cell_type": "code",
            "execution_count": 4,
            "metadata": {},
            "outputs": [
                {
                    "data": {
                        "text/html": "<div>\n<style scoped>\n    .dataframe tbody tr th:only-of-type {\n        vertical-align: middle;\n    }\n\n    .dataframe tbody tr th {\n        vertical-align: top;\n    }\n\n    .dataframe thead th {\n        text-align: right;\n    }\n</style>\n<table border=\"1\" class=\"dataframe\">\n  <thead>\n    <tr style=\"text-align: right;\">\n      <th></th>\n      <th>City</th>\n      <th>Suburb</th>\n      <th>Box</th>\n    </tr>\n  </thead>\n  <tbody>\n    <tr>\n      <th>1</th>\n      <td>JOHANNESBURG</td>\n      <td>ABBOTSFORD</td>\n      <td>2192</td>\n    </tr>\n    <tr>\n      <th>2</th>\n      <td>JOHANNESBURG</td>\n      <td>AEROTON</td>\n      <td>2190</td>\n    </tr>\n    <tr>\n      <th>3</th>\n      <td>JOHANNESBURG</td>\n      <td>AIRDLIN</td>\n      <td>N/A</td>\n    </tr>\n  </tbody>\n</table>\n</div>",
                        "text/plain": "           City      Suburb   Box\n1  JOHANNESBURG  ABBOTSFORD  2192\n2  JOHANNESBURG     AEROTON  2190\n3  JOHANNESBURG     AIRDLIN   N/A"
                    },
                    "execution_count": 4,
                    "metadata": {},
                    "output_type": "execute_result"
                }
            ],
            "source": "df.drop(columns=[\"Street\"],inplace= True)\ndf.drop(df.index[0],inplace=True)\ndf.head(3)"
        },
        {
            "cell_type": "code",
            "execution_count": 5,
            "metadata": {},
            "outputs": [
                {
                    "data": {
                        "text/plain": "(1562, 3)"
                    },
                    "execution_count": 5,
                    "metadata": {},
                    "output_type": "execute_result"
                }
            ],
            "source": "df.shape"
        },
        {
            "cell_type": "code",
            "execution_count": 6,
            "metadata": {},
            "outputs": [
                {
                    "data": {
                        "text/html": "<div>\n<style scoped>\n    .dataframe tbody tr th:only-of-type {\n        vertical-align: middle;\n    }\n\n    .dataframe tbody tr th {\n        vertical-align: top;\n    }\n\n    .dataframe thead th {\n        text-align: right;\n    }\n</style>\n<table border=\"1\" class=\"dataframe\">\n  <thead>\n    <tr style=\"text-align: right;\">\n      <th></th>\n      <th>City</th>\n      <th>Suburb</th>\n      <th>Box</th>\n      <th>Suburb_address</th>\n    </tr>\n  </thead>\n  <tbody>\n    <tr>\n      <th>1</th>\n      <td>JOHANNESBURG</td>\n      <td>ABBOTSFORD</td>\n      <td>2192</td>\n      <td>ABBOTSFORD,JOHANNESBURG</td>\n    </tr>\n    <tr>\n      <th>2</th>\n      <td>JOHANNESBURG</td>\n      <td>AEROTON</td>\n      <td>2190</td>\n      <td>AEROTON,JOHANNESBURG</td>\n    </tr>\n    <tr>\n      <th>3</th>\n      <td>JOHANNESBURG</td>\n      <td>AIRDLIN</td>\n      <td>N/A</td>\n      <td>AIRDLIN,JOHANNESBURG</td>\n    </tr>\n  </tbody>\n</table>\n</div>",
                        "text/plain": "           City      Suburb   Box           Suburb_address\n1  JOHANNESBURG  ABBOTSFORD  2192  ABBOTSFORD,JOHANNESBURG\n2  JOHANNESBURG     AEROTON  2190     AEROTON,JOHANNESBURG\n3  JOHANNESBURG     AIRDLIN   N/A     AIRDLIN,JOHANNESBURG"
                    },
                    "execution_count": 6,
                    "metadata": {},
                    "output_type": "execute_result"
                }
            ],
            "source": "df[\"Suburb_address\"]=df[\"Suburb\"]+\",\"+df[\"City\"]\ndf.head(3)"
        },
        {
            "cell_type": "code",
            "execution_count": null,
            "metadata": {},
            "outputs": [],
            "source": ""
        }
    ],
    "metadata": {
        "kernelspec": {
            "display_name": "Python 3.6",
            "language": "python",
            "name": "python3"
        },
        "language_info": {
            "codemirror_mode": {
                "name": "ipython",
                "version": 3
            },
            "file_extension": ".py",
            "mimetype": "text/x-python",
            "name": "python",
            "nbconvert_exporter": "python",
            "pygments_lexer": "ipython3",
            "version": "3.6.9"
        }
    },
    "nbformat": 4,
    "nbformat_minor": 1
}